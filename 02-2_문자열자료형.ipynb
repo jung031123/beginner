{
 "cells": [
  {
   "cell_type": "markdown",
   "metadata": {},
   "source": [
    "### 문자열은 어떻게 만들고 사용할까? "
   ]
  },
  {
   "cell_type": "code",
   "execution_count": 1,
   "metadata": {},
   "outputs": [
    {
     "name": "stdout",
     "output_type": "stream",
     "text": [
      "Hello World\n",
      "Python is fun\n"
     ]
    }
   ],
   "source": [
    "# 큰따옴표 \n",
    "a = \"Hello World\"\n",
    "print(a)\n",
    "\n",
    "# 작은따옴표\n",
    "b = 'Python is fun'\n",
    "print(b)"
   ]
  },
  {
   "cell_type": "code",
   "execution_count": 2,
   "metadata": {},
   "outputs": [
    {
     "name": "stdout",
     "output_type": "stream",
     "text": [
      " \n",
      "Life is too short, You need python\n",
      "\n",
      "Life is too short, You need python\n"
     ]
    }
   ],
   "source": [
    "# 큰따옴표 3개를 연속으로 \n",
    "c = \"\"\" \n",
    "Life is too short, You need python\n",
    "\"\"\"\n",
    "print(c)\n",
    "\n",
    "# 작은따옴표 3개를 연속으로 \n",
    "d = '''Life is too short, You need python'''\n",
    "print(d)"
   ]
  },
  {
   "cell_type": "code",
   "execution_count": 14,
   "metadata": {},
   "outputs": [
    {
     "name": "stdout",
     "output_type": "stream",
     "text": [
      " \n",
      "    Life is too short\n",
      "    You need python\n",
      "\n",
      " \n",
      "Life is too short\n",
      "You need python\n",
      "\n"
     ]
    }
   ],
   "source": [
    "# 작은따옴표3개, 큰따옴표3개\n",
    "\n",
    "multiline = ''' \n",
    "Life is too short\n",
    "You need python\n",
    "'''\n",
    "multiline2 = \"\"\" \n",
    "Life is too short\n",
    "You need python\n",
    "\"\"\"\n",
    "\n",
    "print(multiline)\n",
    "print(multiline2)"
   ]
  },
  {
   "cell_type": "code",
   "execution_count": 3,
   "metadata": {},
   "outputs": [
    {
     "name": "stdout",
     "output_type": "stream",
     "text": [
      "Python's favorite food is perl\n",
      "\"Python is very easy.\" he says\n",
      "Python's favorite food is perl\n"
     ]
    }
   ],
   "source": [
    "a = \"Python's favorite food is perl\"\n",
    "print(a)\n",
    "\n",
    "b = '\"Python is very easy.\" he says'\n",
    "print(b)\n",
    "\n",
    "food = 'Python\\'s favorite food is perl'\n",
    "print(food)"
   ]
  },
  {
   "cell_type": "code",
   "execution_count": 10,
   "metadata": {},
   "outputs": [
    {
     "name": "stdout",
     "output_type": "stream",
     "text": [
      "Python's favorite food is perl\n",
      "\"Python is very easy.\" he says\n"
     ]
    }
   ],
   "source": [
    "# \\\n",
    "say = \"\\\"Python is very easy.\\\" he says\"\n",
    "print(say)"
   ]
  },
  {
   "cell_type": "code",
   "execution_count": 11,
   "metadata": {},
   "outputs": [
    {
     "name": "stdout",
     "output_type": "stream",
     "text": [
      "Life is too short\n",
      "You need python\n"
     ]
    }
   ],
   "source": [
    "# 이스케이프 코드 \\n \n",
    "\n",
    "multiline = \"Life is too short\\nYou need python\"\n",
    "print(multiline)"
   ]
  },
  {
   "cell_type": "code",
   "execution_count": 5,
   "metadata": {},
   "outputs": [
    {
     "name": "stdout",
     "output_type": "stream",
     "text": [
      "Pyhton is fun\n",
      "pythonpython\n",
      "==================================================\n",
      "My program My program My program My program \n",
      "==================================================\n"
     ]
    }
   ],
   "source": [
    "# 문자열 더해서 연결하기 \n",
    "head = \"Pyhton\"\n",
    "tail = \" is fun\" \n",
    "print(head + tail) \n",
    "\n",
    "# 문자열 곱하기 \n",
    "a = \"python\" \n",
    "print(a * 2)\n",
    "\n",
    "print(\"=\" * 50)\n",
    "print(\"My program \" * 4)\n",
    "print(\"=\" * 50)"
   ]
  },
  {
   "cell_type": "code",
   "execution_count": 27,
   "metadata": {},
   "outputs": [
    {
     "name": "stdout",
     "output_type": "stream",
     "text": [
      "a:  34\n",
      "b:  7\n"
     ]
    }
   ],
   "source": [
    "# 문자열 길이 구하기 len()\n",
    "\n",
    "a = \"Life is too short, You need python\"\n",
    "print(\"a: \", len(a))\n",
    "\n",
    "b = \"python \"\n",
    "print(\"b: \", len(b))"
   ]
  },
  {
   "cell_type": "markdown",
   "metadata": {},
   "source": [
    "### 문자열 인덱싱과 슬라이싱"
   ]
  },
  {
   "cell_type": "code",
   "execution_count": 31,
   "metadata": {},
   "outputs": [
    {
     "name": "stdout",
     "output_type": "stream",
     "text": [
      "34\n",
      "L\n",
      "i\n",
      "f\n",
      "e\n",
      "n\n",
      "o\n"
     ]
    }
   ],
   "source": [
    "a = \"Life is too short, You need python\"\n",
    "print(len(a))\n",
    "\n",
    "print(a[0])\n",
    "print(a[1])\n",
    "print(a[2])\n",
    "print(a[3])\n",
    "\n",
    "print(a[-1])\n",
    "print(a[-2])"
   ]
  },
  {
   "cell_type": "code",
   "execution_count": 43,
   "metadata": {},
   "outputs": [
    {
     "name": "stdout",
     "output_type": "stream",
     "text": [
      "is\n",
      "short\n",
      "You need python\n",
      "Life is too short, \n",
      "Life is too short, You need python\n",
      "Life is too short, You need pytho\n"
     ]
    }
   ],
   "source": [
    "a = \"Life is too short, You need python\"\n",
    "\n",
    "print(a[5:7])\n",
    "print(a[12:17])\n",
    "print(a[19: ])\n",
    "print(a[ :19])\n",
    "print(a[:])\n",
    "print(a[0:-1])\n"
   ]
  },
  {
   "cell_type": "code",
   "execution_count": 44,
   "metadata": {},
   "outputs": [
    {
     "name": "stdout",
     "output_type": "stream",
     "text": [
      "year:  2024\n",
      "day:  0806\n",
      "weather:  Sunny\n"
     ]
    }
   ],
   "source": [
    "a = \"20240806Sunny\"\n",
    "\n",
    "year = a[0:4]\n",
    "day = a[4:8]\n",
    "weather = a[8:13]\n",
    "\n",
    "print(\"year: \", year)\n",
    "print(\"day: \", day)\n",
    "print(\"weather: \", weather)"
   ]
  },
  {
   "cell_type": "code",
   "execution_count": 6,
   "metadata": {},
   "outputs": [
    {
     "name": "stdout",
     "output_type": "stream",
     "text": [
      "f(a[0:4])년 a[5:6]월 a[7:11]일 오늘의 날씨는 입니다.\n"
     ]
    }
   ],
   "source": [
    "a=\"20240807Rainy\"\n",
    "print(\"f(a[0:4])년 a[5:6]월 a[7:11]일 오늘의 날씨는 입니다.\")"
   ]
  },
  {
   "cell_type": "markdown",
   "metadata": {},
   "source": [
    "### 문자열 포매팅"
   ]
  },
  {
   "cell_type": "code",
   "execution_count": 54,
   "metadata": {},
   "outputs": [
    {
     "name": "stdout",
     "output_type": "stream",
     "text": [
      "I eat five apples\n"
     ]
    }
   ],
   "source": [
    "# 문자열 바로 대입\n",
    "print(\"I eat %s apples\" % \"five\")"
   ]
  },
  {
   "cell_type": "code",
   "execution_count": 55,
   "metadata": {},
   "outputs": [
    {
     "name": "stdout",
     "output_type": "stream",
     "text": [
      "I eat 3 apples\n"
     ]
    }
   ],
   "source": [
    "# 숫자 값을 나타내는 변수로 대입\n",
    "\n",
    "number = 3\n",
    "print(\"I eat %d apples\" % number)"
   ]
  },
  {
   "cell_type": "code",
   "execution_count": 62,
   "metadata": {},
   "outputs": [
    {
     "name": "stdout",
     "output_type": "stream",
     "text": [
      "Error is 98 %\n",
      "Error is 98 %\n"
     ]
    }
   ],
   "source": [
    "a = 98\n",
    "print(\"Error is %d %%\" % a)\n",
    "print(f\"Error is {a} %\")"
   ]
  },
  {
   "cell_type": "markdown",
   "metadata": {},
   "source": [
    "# 문자형\n",
    "%s: 공백 ex %10S\n",
    "%s: 오른쪽\n",
    "%-s: 왼쪽\n",
    "\n",
    "# 실수형\n",
    "%f: 소수점 표시 ex  %.4f, %0.4f\n",
    "\n",
    "# 정수형\n",
    "%d\n",
    "\n",
    "# format함수\n",
    "\"{0}\",format(12,\"five\")\n",
    "숫자,문자 타입 상관없이 넣을 수 있음"
   ]
  },
  {
   "cell_type": "code",
   "execution_count": 8,
   "metadata": {},
   "outputs": [
    {
     "name": "stdout",
     "output_type": "stream",
     "text": [
      "I ate 10 apples, so I was sick for three days\n"
     ]
    },
    {
     "ename": "KeyError",
     "evalue": "'numbre'",
     "output_type": "error",
     "traceback": [
      "\u001b[1;31m---------------------------------------------------------------------------\u001b[0m",
      "\u001b[1;31mKeyError\u001b[0m                                  Traceback (most recent call last)",
      "Cell \u001b[1;32mIn[8], line 7\u001b[0m\n\u001b[0;32m      3\u001b[0m day \u001b[38;5;241m=\u001b[39m \u001b[38;5;124m\"\u001b[39m\u001b[38;5;124mthree\u001b[39m\u001b[38;5;124m\"\u001b[39m \n\u001b[0;32m      5\u001b[0m \u001b[38;5;28mprint\u001b[39m(\u001b[38;5;124m\"\u001b[39m\u001b[38;5;124mI ate \u001b[39m\u001b[38;5;132;01m%d\u001b[39;00m\u001b[38;5;124m apples, so I was sick for \u001b[39m\u001b[38;5;132;01m%s\u001b[39;00m\u001b[38;5;124m days\u001b[39m\u001b[38;5;124m\"\u001b[39m \u001b[38;5;241m%\u001b[39m (number, day))\n\u001b[1;32m----> 7\u001b[0m \u001b[38;5;28mprint\u001b[39m(\u001b[38;5;124;43m\"\u001b[39;49m\u001b[38;5;124;43mI ate \u001b[39;49m\u001b[38;5;132;43;01m{numbre}\u001b[39;49;00m\u001b[38;5;124;43m apples, so I was sick for \u001b[39;49m\u001b[38;5;132;43;01m{day}\u001b[39;49;00m\u001b[38;5;124;43m days\u001b[39;49m\u001b[38;5;124;43m\"\u001b[39;49m\u001b[38;5;241;43m.\u001b[39;49m\u001b[43mformat\u001b[49m\u001b[43m(\u001b[49m\u001b[43mnumber\u001b[49m\u001b[38;5;241;43m=\u001b[39;49m\u001b[38;5;241;43m10\u001b[39;49m\u001b[43m,\u001b[49m\u001b[43m \u001b[49m\u001b[43mday\u001b[49m\u001b[38;5;241;43m=\u001b[39;49m\u001b[38;5;241;43m3\u001b[39;49m\u001b[43m)\u001b[49m)\n",
      "\u001b[1;31mKeyError\u001b[0m: 'numbre'"
     ]
    }
   ],
   "source": [
    "# 2개의 이상의 값 넣기 \n",
    "number = 10 \n",
    "day = \"three\" \n",
    "\n",
    "print(\"I ate %d apples, so I was sick for %s days\" % (number, day))\n",
    "\n",
    "print(\"I ate {numbre} apples, so I was sick for {day} days\".format(number=10, day=3))\n"
   ]
  },
  {
   "cell_type": "code",
   "execution_count": null,
   "metadata": {},
   "outputs": [],
   "source": [
    "d={\"name\":\"홍길동\",\"name\":30}\n",
    "print(f\"나의 이름은 (d[\"])\")"
   ]
  }
 ],
 "metadata": {
  "kernelspec": {
   "display_name": "Python 3",
   "language": "python",
   "name": "python3"
  },
  "language_info": {
   "codemirror_mode": {
    "name": "ipython",
    "version": 3
   },
   "file_extension": ".py",
   "mimetype": "text/x-python",
   "name": "python",
   "nbconvert_exporter": "python",
   "pygments_lexer": "ipython3",
   "version": "3.12.4"
  }
 },
 "nbformat": 4,
 "nbformat_minor": 2
}
