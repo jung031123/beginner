{
 "cells": [
  {
   "cell_type": "code",
   "execution_count": 19,
   "metadata": {},
   "outputs": [
    {
     "name": "stdout",
     "output_type": "stream",
     "text": [
      "\u001b[96m인덱싱 결과 출력\u001b[0m\n",
      "6\n",
      "p\n",
      "['a', 'b', 'c']\n",
      "a\n",
      "\u001b[96m슬라이싱 결과 출력\u001b[0m\n",
      "[1, 2, 3]\n",
      "[1, 2, 3, 4, 5]\n",
      "['a', 'b']\n"
     ]
    }
   ],
   "source": [
    "#리스트 안에 리스트 가능\n",
    "\n",
    "#인덱싱\n",
    "a=[]\n",
    "b=[1,2,3,4,5]\n",
    "c=[1,2,3,[\"a\", \"b\" ,\"c\"],4,5]\n",
    "d=\"python\"\n",
    "print('\\033[96m'+'인덱싱 결과 출력'+'\\033[0m')\n",
    "print(len(c))\n",
    "print(d[0])\n",
    "print(c[3])\n",
    "print(c[3][0])\n",
    "\n",
    "#슬라이싱\n",
    "print('\\033[96m'+'슬라이싱 결과 출력'+'\\033[0m')\n",
    "print(b[:3])\n",
    "print(b[:])\n",
    "print(c[3][0:2]) # 중첩 슬라이싱"
   ]
  }
 ],
 "metadata": {
  "kernelspec": {
   "display_name": "Python 3",
   "language": "python",
   "name": "python3"
  },
  "language_info": {
   "codemirror_mode": {
    "name": "ipython",
    "version": 3
   },
   "file_extension": ".py",
   "mimetype": "text/x-python",
   "name": "python",
   "nbconvert_exporter": "python",
   "pygments_lexer": "ipython3",
   "version": "3.12.4"
  }
 },
 "nbformat": 4,
 "nbformat_minor": 2
}
