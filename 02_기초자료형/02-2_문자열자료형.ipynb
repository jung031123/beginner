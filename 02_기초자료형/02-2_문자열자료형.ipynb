{
 "cells": [
  {
   "cell_type": "code",
   "execution_count": 1,
   "metadata": {},
   "outputs": [
    {
     "name": "stdout",
     "output_type": "stream",
     "text": [
      "Hello World\n",
      "Python is fun\n"
     ]
    }
   ],
   "source": [
    "# 큰따옴표 \n",
    "a = \"Hello World\"\n",
    "print(a)\n",
    "\n",
    "# 작은따옴표\n",
    "b = 'Python is fun'\n",
    "print(b)"
   ]
  },
  {
   "cell_type": "code",
   "execution_count": 2,
   "metadata": {},
   "outputs": [
    {
     "name": "stdout",
     "output_type": "stream",
     "text": [
      " \n",
      "Life is too short, You need python\n",
      "\n",
      "Life is too short, You need python\n"
     ]
    }
   ],
   "source": [
    "# 큰따옴표 3개를 연속으로 \n",
    "c = \"\"\" \n",
    "Life is too short, You need python\n",
    "\"\"\"\n",
    "print(c)\n",
    "\n",
    "# 작은따옴표 3개를 연속으로 \n",
    "d = '''Life is too short, You need python'''\n",
    "print(d)"
   ]
  },
  {
   "cell_type": "code",
   "execution_count": 14,
   "metadata": {},
   "outputs": [
    {
     "name": "stdout",
     "output_type": "stream",
     "text": [
      " \n",
      "    Life is too short\n",
      "    You need python\n",
      "\n",
      " \n",
      "Life is too short\n",
      "You need python\n",
      "\n"
     ]
    }
   ],
   "source": [
    "# 작은따옴표3개, 큰따옴표3개\n",
    "\n",
    "multiline = ''' \n",
    "Life is too short\n",
    "You need python\n",
    "'''\n",
    "multiline2 = \"\"\" \n",
    "Life is too short\n",
    "You need python\n",
    "\"\"\"\n",
    "\n",
    "print(multiline)\n",
    "print(multiline2)"
   ]
  },
  {
   "cell_type": "code",
   "execution_count": 3,
   "metadata": {},
   "outputs": [
    {
     "name": "stdout",
     "output_type": "stream",
     "text": [
      "Python's favorite food is perl\n",
      "\"Python is very easy.\" he says\n",
      "Python's favorite food is perl\n"
     ]
    }
   ],
   "source": [
    "a = \"Python's favorite food is perl\"\n",
    "print(a)\n",
    "\n",
    "b = '\"Python is very easy.\" he says'\n",
    "print(b)\n",
    "\n",
    "food = 'Python\\'s favorite food is perl'\n",
    "print(food)"
   ]
  },
  {
   "cell_type": "code",
   "execution_count": 10,
   "metadata": {},
   "outputs": [
    {
     "name": "stdout",
     "output_type": "stream",
     "text": [
      "Python's favorite food is perl\n",
      "\"Python is very easy.\" he says\n"
     ]
    }
   ],
   "source": [
    "# \\\n",
    "say = \"\\\"Python is very easy.\\\" he says\"\n",
    "print(say)"
   ]
  },
  {
   "cell_type": "code",
   "execution_count": 11,
   "metadata": {},
   "outputs": [
    {
     "name": "stdout",
     "output_type": "stream",
     "text": [
      "Life is too short\n",
      "You need python\n"
     ]
    }
   ],
   "source": [
    "# 이스케이프 코드 \\n \n",
    "\n",
    "multiline = \"Life is too short\\nYou need python\"\n",
    "print(multiline)"
   ]
  },
  {
   "cell_type": "code",
   "execution_count": 5,
   "metadata": {},
   "outputs": [
    {
     "name": "stdout",
     "output_type": "stream",
     "text": [
      "Pyhton is fun\n",
      "pythonpython\n",
      "==================================================\n",
      "My program My program My program My program \n",
      "==================================================\n"
     ]
    }
   ],
   "source": [
    "# 문자열 더해서 연결하기 \n",
    "head = \"Pyhton\"\n",
    "tail = \" is fun\" \n",
    "print(head + tail) \n",
    "\n",
    "# 문자열 곱하기 \n",
    "a = \"python\" \n",
    "print(a * 2)\n",
    "\n",
    "print(\"=\" * 50)\n",
    "print(\"My program \" * 4)\n",
    "print(\"=\" * 50)"
   ]
  },
  {
   "cell_type": "code",
   "execution_count": 27,
   "metadata": {},
   "outputs": [
    {
     "name": "stdout",
     "output_type": "stream",
     "text": [
      "a:  34\n",
      "b:  7\n"
     ]
    }
   ],
   "source": [
    "# 문자열 길이 구하기 len()\n",
    "\n",
    "a = \"Life is too short, You need python\"\n",
    "print(\"a: \", len(a))\n",
    "\n",
    "b = \"python \"\n",
    "print(\"b: \", len(b))"
   ]
  },
  {
   "cell_type": "markdown",
   "metadata": {},
   "source": [
    "### 문자열 인덱싱과 슬라이싱"
   ]
  },
  {
   "cell_type": "code",
   "execution_count": 31,
   "metadata": {},
   "outputs": [
    {
     "name": "stdout",
     "output_type": "stream",
     "text": [
      "34\n",
      "L\n",
      "i\n",
      "f\n",
      "e\n",
      "n\n",
      "o\n"
     ]
    }
   ],
   "source": [
    "a = \"Life is too short, You need python\"\n",
    "print(len(a))\n",
    "\n",
    "print(a[0])\n",
    "print(a[1])\n",
    "print(a[2])\n",
    "print(a[3])\n",
    "\n",
    "print(a[-1])\n",
    "print(a[-2])"
   ]
  },
  {
   "cell_type": "code",
   "execution_count": 43,
   "metadata": {},
   "outputs": [
    {
     "name": "stdout",
     "output_type": "stream",
     "text": [
      "is\n",
      "short\n",
      "You need python\n",
      "Life is too short, \n",
      "Life is too short, You need python\n",
      "Life is too short, You need pytho\n"
     ]
    }
   ],
   "source": [
    "a = \"Life is too short, You need python\"\n",
    "\n",
    "print(a[5:7])\n",
    "print(a[12:17])\n",
    "print(a[19: ])\n",
    "print(a[ :19])\n",
    "print(a[:])\n",
    "print(a[0:-1])\n"
   ]
  },
  {
   "cell_type": "code",
   "execution_count": 44,
   "metadata": {},
   "outputs": [
    {
     "name": "stdout",
     "output_type": "stream",
     "text": [
      "year:  2024\n",
      "day:  0806\n",
      "weather:  Sunny\n"
     ]
    }
   ],
   "source": [
    "a = \"20240806Sunny\"\n",
    "\n",
    "year = a[0:4]\n",
    "day = a[4:8]\n",
    "weather = a[8:13]\n",
    "\n",
    "print(\"year: \", year)\n",
    "print(\"day: \", day)\n",
    "print(\"weather: \", weather)"
   ]
  },
  {
   "cell_type": "code",
   "execution_count": 6,
   "metadata": {},
   "outputs": [
    {
     "name": "stdout",
     "output_type": "stream",
     "text": [
      "f(a[0:4])년 a[5:6]월 a[7:11]일 오늘의 날씨는 입니다.\n"
     ]
    }
   ],
   "source": [
    "a=\"20240807Rainy\"\n",
    "print(\"f(a[0:4])년 a[5:6]월 a[7:11]일 오늘의 날씨는 입니다.\")"
   ]
  },
  {
   "cell_type": "markdown",
   "metadata": {},
   "source": [
    "### 문자열 포매팅"
   ]
  },
  {
   "cell_type": "code",
   "execution_count": 54,
   "metadata": {},
   "outputs": [
    {
     "name": "stdout",
     "output_type": "stream",
     "text": [
      "I eat five apples\n"
     ]
    }
   ],
   "source": [
    "# 문자열 바로 대입\n",
    "print(\"I eat %s apples\" % \"five\")"
   ]
  },
  {
   "cell_type": "code",
   "execution_count": 55,
   "metadata": {},
   "outputs": [
    {
     "name": "stdout",
     "output_type": "stream",
     "text": [
      "I eat 3 apples\n"
     ]
    }
   ],
   "source": [
    "# 숫자 값을 나타내는 변수로 대입\n",
    "\n",
    "number = 3\n",
    "print(\"I eat %d apples\" % number)"
   ]
  },
  {
   "cell_type": "code",
   "execution_count": 62,
   "metadata": {},
   "outputs": [
    {
     "name": "stdout",
     "output_type": "stream",
     "text": [
      "Error is 98 %\n",
      "Error is 98 %\n"
     ]
    }
   ],
   "source": [
    "a = 98\n",
    "print(\"Error is %d %%\" % a)\n",
    "print(f\"Error is {a} %\")"
   ]
  },
  {
   "cell_type": "markdown",
   "metadata": {},
   "source": [
    "문자형:\n",
    "%s: 공백 ex %10S\n",
    "%s: 오른쪽\n",
    "%-s: 왼쪽\n",
    "\n",
    "실수형:\n",
    "%f: 소수점 표시 ex  %.4f, %0.4f\n",
    "\n",
    "정수형:\n",
    "%d\n",
    "\n",
    "format함수:\n",
    "\"{0}\",format(12,\"five\")\n",
    "숫자,문자 타입 상관없이 넣을 수 있음"
   ]
  },
  {
   "cell_type": "code",
   "execution_count": 3,
   "metadata": {},
   "outputs": [
    {
     "name": "stdout",
     "output_type": "stream",
     "text": [
      "I ate 10 apples, so I was sick for three days\n",
      "I ate 10 apples. so I was sick 3 days\n",
      "I ate 10 apples. so I was sick 3 days\n"
     ]
    }
   ],
   "source": [
    "# 2개의 이상의 값 넣기 \n",
    "number = 10 \n",
    "day = \"three\" \n",
    "print(\"I ate %d apples, so I was sick for %s days\" % (number, day))\n",
    "# 이름으로 넣기 \n",
    "print(\"I ate {number} apples. so I was sick {day} days\".format(number=10, day=3))\n",
    "# 인덱스, 이름 혼용사용\n",
    "print(\"I ate {0} apples. so I was sick {day} days\".format(number, day=3))"
   ]
  },
  {
   "cell_type": "code",
   "execution_count": 6,
   "metadata": {},
   "outputs": [
    {
     "name": "stdout",
     "output_type": "stream",
     "text": [
      "정렬 hi 입니다\n",
      "왼쪽정렬 hi         입니다\n",
      "오른쪽정렬         hi 입니다\n",
      "중간정렬     hi     입니다\n"
     ]
    }
   ],
   "source": [
    "# 정렬\n",
    "print(\"정렬 {0} 입니다\".format(\"hi\"))\n",
    "print(\"왼쪽정렬 {0:<10} 입니다\".format(\"hi\"))\n",
    "print(\"오른쪽정렬 {0:>10} 입니다\".format(\"hi\"))\n",
    "print(\"중간정렬 {0:^10} 입니다\".format(\"hi\"))"
   ]
  },
  {
   "cell_type": "code",
   "execution_count": 7,
   "metadata": {},
   "outputs": [
    {
     "name": "stdout",
     "output_type": "stream",
     "text": [
      "공백 hi\n",
      "공백 ====hi====\n",
      "공백 ****hi****\n",
      "공백 hi********\n",
      "공백 ********hi\n",
      "공백 !!!!!!!!hi\n"
     ]
    }
   ],
   "source": [
    "print(\"공백 {0}\".format(\"hi\"))\n",
    "print(\"공백 {0:=^10}\".format(\"hi\"))\n",
    "print(\"공백 {0:*^10}\".format(\"hi\"))\n",
    "print(\"공백 {0:*<10}\".format(\"hi\"))\n",
    "print(\"공백 {0:*>10}\".format(\"hi\"))\n",
    "print(\"공백 {0:!>10}\".format(\"hi\"))"
   ]
  },
  {
   "cell_type": "code",
   "execution_count": 8,
   "metadata": {},
   "outputs": [
    {
     "name": "stdout",
     "output_type": "stream",
     "text": [
      "소수점자리표현: 3.42134234\n",
      "소수점자리표현: 3.4213\n",
      "소수점자리표현: 3.4213\n",
      "소수점자리표현:     3.4213\n",
      "소수점자리표현:   3.4213  \n",
      "소수점자리표현: $$3.4213$$\n",
      "소수점자리표현: ❤❤3.4213❤❤\n",
      "문자표현: {and}\n",
      "문자표현: {}\n"
     ]
    }
   ],
   "source": [
    "# 소수점 표현하기 \n",
    "\n",
    "y = 3.42134234\n",
    "\n",
    "print(\"소수점자리표현: {0}\".format(y))\n",
    "print(\"소수점자리표현: {0:0.4f}\".format(y))\n",
    "print(\"소수점자리표현: {0:.4f}\".format(y))\n",
    "print(\"소수점자리표현: {0:10.4f}\".format(y))\n",
    "print(\"소수점자리표현: {0:^10.4f}\".format(y))\n",
    "print(\"소수점자리표현: {0:$^10.4f}\".format(y))\n",
    "print(\"소수점자리표현: {0:❤^10.4f}\".format(y))\n",
    "\n",
    "# {또는} 문자 표현\n",
    "print(\"문자표현: {{and}}\".format())\n",
    "print(\"문자표현: {{}}\".format())"
   ]
  },
  {
   "cell_type": "markdown",
   "metadata": {},
   "source": [
    "### f 문자열 포매팅"
   ]
  },
  {
   "cell_type": "code",
   "execution_count": 12,
   "metadata": {},
   "outputs": [
    {
     "name": "stdout",
     "output_type": "stream",
     "text": [
      "나의 이름은 홍길동입니다. 나이는 30입니다.\n",
      "나의 이름은 홍길동입니다. 나이는 40입니다.\n"
     ]
    }
   ],
   "source": [
    "name = \"홍길동\"\n",
    "age = 30 \n",
    "\n",
    "print(f\"나의 이름은 {name}입니다. 나이는 {age}입니다.\")\n",
    "print(f\"나의 이름은 {name}입니다. 나이는 {age + 10}입니다.\")"
   ]
  },
  {
   "cell_type": "code",
   "execution_count": 11,
   "metadata": {},
   "outputs": [
    {
     "name": "stdout",
     "output_type": "stream",
     "text": [
      "나의 이름은 홍길동입니다. 나이는 30입니다.\n"
     ]
    }
   ],
   "source": [
    "d = {\"name\": \"홍길동\", \"age\": 30}\n",
    "print(f\"나의 이름은 {d[\"name\"]}입니다. 나이는 {d['age']}입니다.\")"
   ]
  },
  {
   "cell_type": "code",
   "execution_count": 10,
   "metadata": {},
   "outputs": [
    {
     "name": "stdout",
     "output_type": "stream",
     "text": [
      "count():  2\n",
      "find():  14\n",
      "찾지못했을때 반환하는 값:  -1\n",
      "index():  8\n"
     ]
    }
   ],
   "source": [
    "# 문자 개수 구하기\n",
    "a = \"hobby\" \n",
    "print(\"count(): \", a.count(\"b\"))\n",
    "\n",
    "# 위치 알려주기 find()\n",
    "b = \"Python is the best choice\"\n",
    "print(\"find(): \", b.find(\"b\"))\n",
    "print(\"찾지못했을때 반환하는 값: \", b.find(\"k\"))\n",
    "\n",
    "# 위치 알려주기 index()\n",
    "c = \"Life is too short\" \n",
    "print(\"index(): \", c.index(\"t\"))"
   ]
  },
  {
   "cell_type": "code",
   "execution_count": 13,
   "metadata": {},
   "outputs": [
    {
     "name": "stdout",
     "output_type": "stream",
     "text": [
      "HI\n",
      "hello\n"
     ]
    }
   ],
   "source": [
    "\",\".join(\"abcd\")\n",
    "a = \"hi\" \n",
    "print(a.upper())\n",
    "b = \"HELLO\" \n",
    "print(b.lower())"
   ]
  },
  {
   "cell_type": "code",
   "execution_count": 14,
   "metadata": {},
   "outputs": [
    {
     "name": "stdout",
     "output_type": "stream",
     "text": [
      "|     hi     |\n",
      "|hi     |\n",
      "|     hi|\n",
      "|hi|\n"
     ]
    }
   ],
   "source": [
    "a = \"     hi     \"\n",
    "print(f\"|{a}|\")\n",
    "\n",
    "# 왼쪽 공백지우기 lstrip()\n",
    "print(f\"|{a.lstrip()}|\")\n",
    "\n",
    "# 오른쪽 공백지우기 rstrip()\n",
    "print(f\"|{a.rstrip()}|\")\n",
    "\n",
    "# 양쪽 공백지우기 strip()\n",
    "print(f\"|{a.strip()}|\")"
   ]
  },
  {
   "cell_type": "code",
   "execution_count": 15,
   "metadata": {},
   "outputs": [
    {
     "name": "stdout",
     "output_type": "stream",
     "text": [
      "Your leg is too short\n",
      "['Life', 'is', 'too', 'short']\n",
      "<class 'list'>\n",
      "['a:b:c:d']\n",
      "['a', 'b', 'c', 'd']\n",
      "['사과,감자,수박,포도']\n",
      "['사과', '감자', '수박', '포도']\n"
     ]
    }
   ],
   "source": [
    "# 문자열 바꾸기 replace()\n",
    "a = \"Life is too short\" \n",
    "print(a.replace(\"Life\", \"Your leg\"))\n",
    "\n",
    "# 문자열 나누기 split() -> List[]\n",
    "b = a.split()\n",
    "\n",
    "print(b)\n",
    "print(type(b))\n",
    "\n",
    "c = \"a:b:c:d\"\n",
    "print(c.split())\n",
    "print(c.split(\":\"))\n",
    "\n",
    "d = \"사과,감자,수박,포도\"\n",
    "print(d.split())\n",
    "print(d.split(\",\"))"
   ]
  }
 ],
 "metadata": {
  "kernelspec": {
   "display_name": "Python 3",
   "language": "python",
   "name": "python3"
  },
  "language_info": {
   "codemirror_mode": {
    "name": "ipython",
    "version": 3
   },
   "file_extension": ".py",
   "mimetype": "text/x-python",
   "name": "python",
   "nbconvert_exporter": "python",
   "pygments_lexer": "ipython3",
   "version": "3.12.4"
  }
 },
 "nbformat": 4,
 "nbformat_minor": 2
}
