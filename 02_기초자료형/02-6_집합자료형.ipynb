{
 "cells": [
  {
   "cell_type": "code",
   "execution_count": 6,
   "metadata": {},
   "outputs": [
    {
     "name": "stdout",
     "output_type": "stream",
     "text": [
      "{1, 2, 3}\n",
      "<class 'set'>\n",
      "{'l', 'o', 'e', 'h'}\n",
      "<class 'set'>\n",
      "{'name': 'pey', 'age': 30}\n",
      "<class 'dict'>\n",
      "[1, 2, 3]\n",
      "<class 'list'>\n",
      "2\n",
      "(1, 2, 3)\n",
      "<class 'tuple'>\n"
     ]
    }
   ],
   "source": [
    "#중복 허용 X, 순서 없음\n",
    "s1=set([1,2,3])\n",
    "dic = {\"name\": \"pey\", \"age\": 30}\n",
    "s2 = set(\"hello\")\n",
    "\n",
    "#집합자료형\n",
    "print(s1)\n",
    "print(type(s1))\n",
    "# 집합자료형에서는 인덱싱을 지원하지 않음\n",
    "# print(s1[1])\n",
    "\n",
    "print(s2)\n",
    "print(type(s2))\n",
    "\n",
    "#딕서너리\n",
    "print(dic)\n",
    "print(type(dic))\n",
    "\n",
    "# 리스트함수를 통해 자료형 변환\n",
    "l1 = list(s1)\n",
    "print(l1)\n",
    "print(type(l1))\n",
    "print(l1[1])\n",
    "\n",
    "# 튜플함수를 이용해 자료형 변환\n",
    "t1 = tuple(s1)\n",
    "print(t1)\n",
    "print(type(t1))"
   ]
  },
  {
   "cell_type": "code",
   "execution_count": 7,
   "metadata": {},
   "outputs": [
    {
     "name": "stdout",
     "output_type": "stream",
     "text": [
      "{1, 2, 3, 4, 5, 6}\n",
      "<class 'set'>\n",
      "{'name': 'pey', 'age': 30}\n",
      "<class 'dict'>\n",
      "{4, 5, 6}\n",
      "[4, 5, 6]\n"
     ]
    }
   ],
   "source": [
    "# 교집합,합집합,차집합 &, |, -\n",
    "\n",
    "test = {1, 2, 3, 4, 5, 6}\n",
    "print(test)\n",
    "print(type(test))\n",
    "\n",
    "test2 = {\"name\": \"pey\", \"age\": 30}\n",
    "print(test2)\n",
    "print(type(test2))\n",
    "\n",
    "\n",
    "s1 = set([1, 2, 3, 4, 5, 6])\n",
    "s2 = set([4, 5, 6, 7, 8, 9])\n",
    "result = s1 & s2\n",
    "\n",
    "# 교집합 \n",
    "print(result)\n",
    "print(list(result))\n",
    "\n",
    "# 교집합 - intersection()\n",
    "reuslt = s1.intersection(s2)"
   ]
  },
  {
   "cell_type": "code",
   "execution_count": null,
   "metadata": {},
   "outputs": [],
   "source": [
    "# 값 1개 추가하기 - add()\n",
    "\n",
    "s1 = set([1, 2, 3])\n",
    "s1.add(4)\n",
    "print(s1)\n",
    "\n",
    "# 요소 한 개만 추가가 가능\n",
    "# s1.add([2,3])\n",
    "# print(s1)"
   ]
  },
  {
   "cell_type": "code",
   "execution_count": null,
   "metadata": {},
   "outputs": [],
   "source": [
    " 값 여러 개 추가하기 - update()\n",
    "\n",
    "# s1 = {1, 2, 3}\n",
    "s1 = set({1, 2, 3})\n",
    "s1.update([4, 5, 6])\n",
    "print(s1)\n",
    "\n",
    "# 하나의 요소로는 업데이트의 인수로 받을 수 없음\n",
    "# s1.update(7)\n",
    "# print(s1)\n",
    "\n",
    "# 하나의 리스트 요소로는 업데이트의 인수로 사용이 가능\n",
    "s1.update([7])\n",
    "print(s1)"
   ]
  },
  {
   "cell_type": "code",
   "execution_count": null,
   "metadata": {},
   "outputs": [],
   "source": [
    "# 특정 값 제거하기 - remove()\n",
    "# s1 = {1, 2, 3}\n",
    "s1 = set([1, 2, 3])\n",
    "s1.remove(2)\n",
    "\n",
    "print(s1)"
   ]
  },
  {
   "cell_type": "code",
   "execution_count": null,
   "metadata": {},
   "outputs": [],
   "source": [
    "script1 = \"외국계 쇼핑몰의 공습으로 국내 기업의 어려움이 가중되고 있습니다\"\n",
    "script2 = \"여름이면 시원한 미숫가루 생각이 납니다\"\n",
    "s1 = script1.split()\n",
    "s2 = script2.split()\n",
    "\n",
    "s1 = set(s1)\n",
    "s2 = set(s2)\n",
    "\n",
    "result = s1.union(s2)\n",
    "result = list(result)\n",
    "print(result)\n",
    "['미숫가루', '시원한', '국내', '있습니다', '쇼핑몰의', '공습으로', '외국계', '기업의', '납니다', '여름이면', '생각이', '가중되고', '어려움이']"
   ]
  }
 ],
 "metadata": {
  "kernelspec": {
   "display_name": "Python 3",
   "language": "python",
   "name": "python3"
  },
  "language_info": {
   "codemirror_mode": {
    "name": "ipython",
    "version": 3
   },
   "file_extension": ".py",
   "mimetype": "text/x-python",
   "name": "python",
   "nbconvert_exporter": "python",
   "pygments_lexer": "ipython3",
   "version": "3.12.4"
  }
 },
 "nbformat": 4,
 "nbformat_minor": 2
}
