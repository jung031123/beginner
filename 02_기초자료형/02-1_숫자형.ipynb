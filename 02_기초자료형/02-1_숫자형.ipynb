{
 "cells": [
  {
   "cell_type": "code",
   "execution_count": 1,
   "metadata": {},
   "outputs": [
    {
     "name": "stdout",
     "output_type": "stream",
     "text": [
      "Hello world\n"
     ]
    }
   ],
   "source": [
    "print(\"Hello world\")"
   ]
  },
  {
   "cell_type": "code",
   "execution_count": 4,
   "metadata": {},
   "outputs": [
    {
     "name": "stdout",
     "output_type": "stream",
     "text": [
      "123 -178 0\n"
     ]
    }
   ],
   "source": [
    "a=123\n",
    "b=-178\n",
    "c=0\n",
    "\n",
    "print(a,b,c)"
   ]
  },
  {
   "cell_type": "code",
   "execution_count": 2,
   "metadata": {},
   "outputs": [
    {
     "name": "stdout",
     "output_type": "stream",
     "text": [
      "1.2\n",
      "-3.45\n"
     ]
    }
   ],
   "source": [
    "# 실수형 \n",
    "\n",
    "a = 1.2 \n",
    "b = -3.45 \n",
    "\n",
    "print(a)\n",
    "print(b)"
   ]
  },
  {
   "cell_type": "code",
   "execution_count": null,
   "metadata": {},
   "outputs": [],
   "source": [
    "a = 4.24E10 \n",
    "b = 4.24E-10\n",
    "\n",
    "print(a) \n",
    "print(b)"
   ]
  },
  {
   "cell_type": "code",
   "execution_count": null,
   "metadata": {},
   "outputs": [],
   "source": [
    "# 8진수와 16진수\n",
    "\n",
    "a = 0o177\n",
    "b = 0xABC\n",
    "\n",
    "c = 0o11 \n",
    "d = 0x11\n",
    "e = 0o111\n",
    "\n",
    "\n",
    "print(\"a: \", a)\n",
    "print(\"b: \", b)\n",
    "print(\"c: \", c)\n",
    "print(\"d: \", d)\n",
    "print(e)\n",
    "\n",
    "# 0o177 = 1 * (8*8) + 7 * (8) + 7\n",
    "# 0o11 = 1 * (8) + 1\n",
    "# 0o111 = 1 * (8 * 8) + 1 * (8) + 1"
   ]
  },
  {
   "cell_type": "code",
   "execution_count": null,
   "metadata": {},
   "outputs": [],
   "source": [
    "print(0xf)\n",
    "print(0xA)"
   ]
  },
  {
   "cell_type": "code",
   "execution_count": null,
   "metadata": {},
   "outputs": [],
   "source": [
    "a = 3\n",
    "b = 4\n",
    "\n",
    "print(a + b)\n",
    "print(a - b) \n",
    "print(a * b) \n",
    "print(a / b) "
   ]
  },
  {
   "cell_type": "code",
   "execution_count": null,
   "metadata": {},
   "outputs": [],
   "source": [
    "# x의 y제곱을 나타내는 **연산자\n",
    "\n",
    "a = 3 \n",
    "b = 4 \n",
    "print(a ** b)\n",
    "print(2 ** 3)"
   ]
  },
  {
   "cell_type": "code",
   "execution_count": null,
   "metadata": {},
   "outputs": [],
   "source": [
    "# 나눗셈 후 나머지를 리턴하는 % 연산자\n",
    "print(7 % 3)\n",
    "\n",
    "# 나눗셈 후 몫을 리턴하는 // 연산자\n",
    "print(7 / 3)\n",
    "print(7 // 3) "
   ]
  },
  {
   "cell_type": "markdown",
   "metadata": {},
   "source": [
    "제일 처음 설정하는 법\n",
    "\n",
    "bash -> git init -> git add .(모든 파일 올린다) -> git commit -m \"설명문 넣을 수 있다\"\n",
    "-> git config --global user.email \"you@example.com\"\n",
    "-> git config --global user.name \"Your Name\"\n",
    "-> git remote add origin https://github.com/jung031123/beginner.git \n",
    "-> git push origin master\n"
   ]
  },
  {
   "cell_type": "markdown",
   "metadata": {},
   "source": [
    "git add .\n",
    "git commit -m \"설명\"\n",
    "git push origin +master ( 강제로 저장)"
   ]
  }
 ],
 "metadata": {
  "kernelspec": {
   "display_name": "Python 3",
   "language": "python",
   "name": "python3"
  },
  "language_info": {
   "codemirror_mode": {
    "name": "ipython",
    "version": 3
   },
   "file_extension": ".py",
   "mimetype": "text/x-python",
   "name": "python",
   "nbconvert_exporter": "python",
   "pygments_lexer": "ipython3",
   "version": "3.12.4"
  }
 },
 "nbformat": 4,
 "nbformat_minor": 2
}
